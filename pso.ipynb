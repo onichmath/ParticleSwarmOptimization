{
 "cells": [
  {
   "cell_type": "markdown",
   "id": "f48bcbe8-51c3-43ac-98b2-616bb978bc57",
   "metadata": {},
   "source": [
    "Matthew O'Malley-Nichols\n",
    "\n",
    "omallema@oregonstate.edu\n",
    "\n",
    "CS 325 Algorithms Spring 2023"
   ]
  },
  {
   "cell_type": "markdown",
   "id": "c5d814d9-020e-426a-89a0-d29ecf93e520",
   "metadata": {
    "editable": true,
    "slideshow": {
     "slide_type": ""
    },
    "tags": []
   },
   "source": [
    "#Particle Swarm Optimization"
   ]
  },
  {
   "cell_type": "markdown",
   "id": "faca914a-d4a6-453a-ad24-2b6e0368802e",
   "metadata": {},
   "source": [
    "##Background"
   ]
  },
  {
   "cell_type": "markdown",
   "id": "ddce8472-e31e-47b6-ad58-f25a237f9efd",
   "metadata": {},
   "source": [
    "Particle Swarm Optimization (PSO) is a optimization method developed in 1995. PSO works by having \"particles\" search a problem space for an objective function, attempting to find the minimum. These particles communicate with each other by affecting the velocity of particles with worse solutions. Therefore, each particle has its own personal best solution to an objective function, and the swarm itself has a personal best solution. Next, lets look at the pseudocode of the standard particle swarm optimization."
   ]
  },
  {
   "cell_type": "markdown",
   "id": "c5e54db4-1c63-4fe0-b147-59b20f1cec5d",
   "metadata": {},
   "source": [
    "##Pseudocode - Standard PSO"
   ]
  },
  {
   "cell_type": "markdown",
   "id": "8f66dfef-9316-426c-85b0-167fefaee9a4",
   "metadata": {},
   "source": [
    "Before we look at the pseudocode, lets define a few things. An objective function represents the goal of an optimization or cost problem. A fitness function is a type of objective function that returns how close a current solution is to the desired solution. Our fitness and objective functions will be the same, as we only have a single objective of minimizing the objective function. We will define fitness as the value returned from plugging our particle's position into our fitness function. Now lets jump into the pseudocode."
   ]
  },
  {
   "cell_type": "code",
   "execution_count": 2,
   "id": "4df1afe9-57c7-4990-adf8-1c66c01b2b2b",
   "metadata": {},
   "outputs": [
    {
     "ename": "SyntaxError",
     "evalue": "unterminated string literal (detected at line 2) (2133149841.py, line 2)",
     "output_type": "error",
     "traceback": [
      "\u001b[0;36m  Cell \u001b[0;32mIn[2], line 2\u001b[0;36m\u001b[0m\n\u001b[0;31m    Initialize the particle's position with a uniformly distributed random vector: xi ~ U(blo, bup)\u001b[0m\n\u001b[0m                           ^\u001b[0m\n\u001b[0;31mSyntaxError\u001b[0m\u001b[0;31m:\u001b[0m unterminated string literal (detected at line 2)\n"
     ]
    }
   ],
   "source": [
    "for each particle i = 1, ..., S do\n",
    "    Initialize the particle's position with a uniformly distributed random vector: xi ~ U(blo, bup)\n",
    "    Initialize the particle's best known position to its initial position: pi ← xi\n",
    "    if f(pi) < f(g) then\n",
    "        update the swarm's best known position: g ← pi\n",
    "    Initialize the particle's velocity: vi ~ U(-|bup-blo|, |bup-blo|)\n",
    "while a termination criterion is not met do:\n",
    "    for each particle i = 1, ..., S do\n",
    "        for each dimension d = 1, ..., n do\n",
    "            Pick random numbers: rp, rg ~ U(0,1)\n",
    "            Update the particle's velocity: vi,d ← w vi,d + φp rp (pi,d-xi,d) + φg rg (gd-xi,d)\n",
    "        Update the particle's position: xi ← xi + vi\n",
    "        if f(xi) < f(pi) then\n",
    "            Update the particle's best known position: pi ← xi\n",
    "            if f(pi) < f(g) then\n",
    "                Update the swarm's best known position: g ← pi\n",
    "                \n",
    "Source: https://en.wikipedia.org/wiki/Particle_swarm_optimization"
   ]
  },
  {
   "cell_type": "markdown",
   "id": "7807329e-c4ae-4328-a517-38ad26dd282b",
   "metadata": {},
   "source": [
    "The first step in PSO is to initialize each particle in the set of particles. Each particle is randomly given a position within the bounds of the objective function, and the particle's best known position is set to this position. Next the fitness of the particle's best known position is compared to the fitness of the swarm's best known position. If the particle's fitness is less than the swarm's, the swarm's fitness is updated with the particle's. Finally, we initialize the particle's velocity to be a random vector within the bounds of the objective function or a vector of 0's.\n"
   ]
  },
  {
   "cell_type": "markdown",
   "id": "7a5bcd57-06a8-4812-ab04-67d2de3064b1",
   "metadata": {},
   "source": [
    "Next we have the main loop, which runs until a termination criteria is met. This criteria is typically a designated number of iterations, but, if we know the minimum of the objective function, the end condition could be when the minimum is found. While this condition is not met, each particle is iterated over. For every dimension in the problem space, the velocity in that dimension is updated with the formula:\n",
    "\n",
    "velocity = (weight * current velocity) + (cognitive coefficient * random number between 0 and 1) * (distance to personal best position) + (social coefficient * random number between 0 and 1) * (distance to the global best position). \n",
    "\n",
    "The weight, also known as inertia, affects how strongly the particle wants to continue along their current velocity. The cognitive coefficient affects how much the particle is drawn to their own personal best location, while the social coefficient affects how much the particle is drawn to the swarm's best location. Next, the particle's position is set to be the current position plus the velocity.\n",
    "\n",
    "We next compare the fitness of the current position to the fitness of the particle's best known position, updating the particles best known position if a smaller value is found. Then, we update the swarm's best position if its fitness is greater than the fitness of the particle's position. "
   ]
  },
  {
   "cell_type": "markdown",
   "id": "438949ca-ad87-4e57-920a-d4911e50a4a3",
   "metadata": {},
   "source": [
    "####Time Complexity"
   ]
  },
  {
   "cell_type": "markdown",
   "id": "e158f973-ee9e-4be7-a7c7-82421fd61d6b",
   "metadata": {},
   "source": [
    "P = number of particles\n",
    "\n",
    "D = number of dimensions in problem space\n",
    "\n",
    "T = termination criteria\n",
    "\n",
    "While the time complexity of particle swarm optimization can be incredibly varied depending on implementation, we can see that this implementation starts with having P particles initialized. Then a main loop runs that is tightly bound to the (termination condition) times the (number of particles) times the (number of dimensions). The rest of the logic is computations and comparisons done in constant time. Therefore, the time complexity of this standard implementation is O(P * D * T  + P). "
   ]
  },
  {
   "cell_type": "markdown",
   "id": "ecdc39e3-7888-4cda-af72-a09bf89912aa",
   "metadata": {},
   "source": [
    "##Implementation"
   ]
  },
  {
   "cell_type": "markdown",
   "id": "a3c79bb8-8c52-4fe3-b803-1c7c14611f65",
   "metadata": {},
   "source": [
    "Lets begin our implementation of PSO. We will be minimizing a function called Ackley's, a optimization benchmark known for its various local optima. Ackley's function only has one global minimum: x=0 and y=0, which we will be trying to reach."
   ]
  },
  {
   "cell_type": "code",
   "execution_count": 1,
   "id": "1063659c-6f1f-4fd3-996e-2d8e274129d8",
   "metadata": {},
   "outputs": [],
   "source": [
    "import numpy as np \n",
    "from matplotlib import pyplot as plt\n",
    "from matplotlib import animation\n",
    "%matplotlib widget"
   ]
  },
  {
   "cell_type": "markdown",
   "id": "1b84e79a-53a4-460c-b9b3-0b4ca67811ef",
   "metadata": {},
   "source": [
    "Lets begin by importing our needed libraries. We will be using numpy for our vectors and for our math functions."
   ]
  },
  {
   "cell_type": "code",
   "execution_count": 2,
   "id": "e91bde3e-af1c-487a-8120-3d377e723a31",
   "metadata": {},
   "outputs": [],
   "source": [
    "class Particle():\n",
    "    \"\"\"Represents a particle\"\"\"\n",
    "    dimensions = 2\n",
    "    # Inertial weight\n",
    "    weight = 1 \n",
    "    # Social and cognitive coefficients.\n",
    "    # Cognitive makes a particle care more about its own findings\n",
    "    # Social makes a particle care more about the swarm's findings\n",
    "    social_coefficient = 1.5 \n",
    "    cognitive_coefficient = 1.5\n",
    "    # Upper and lower bounds of the problem\n",
    "    upper_bound = 5\n",
    "    lower_bound = -5\n",
    "    # Swarm's best known position\n",
    "    gbest_pos = [upper_bound] * dimensions\n",
    "    # Target minimum values\n",
    "    target = [0,0]\n",
    "    error = 1e-6\n",
    "\n",
    "    @classmethod\n",
    "    def decrement_weight(cls):\n",
    "        \"\"\"Decrement the weight/inertia of all particles\"\"\"\n",
    "        if cls.weight > 0.3:\n",
    "            cls.weight = cls.weight - 0.01\n",
    "\n",
    "    @classmethod\n",
    "    def setup(cls, weight:float=1.0, social:float=1.5, cognitive:float=1.5, dimensions:int=2, upper:float=5.0, lower:float=-5.0, target:list=[0,0], error:float=1e-6) -> None:\n",
    "        \"\"\"Setup the swarm space\"\"\"\n",
    "        cls.weight = weight\n",
    "        cls.social_coefficient = social\n",
    "        cls.cognitive_coefficient = cognitive\n",
    "        cls.dimensions = dimensions\n",
    "        cls.gbest_pos = [upper] * dimensions\n",
    "        cls.upper_bound = upper\n",
    "        cls.lower_bound = lower\n",
    "        cls.target = target\n",
    "        cls.error = error\n",
    "        assert len(cls.gbest_pos) == cls.dimensions\n",
    "\n",
    "    @classmethod\n",
    "    def within_target_error(cls) -> bool:\n",
    "        \"\"\"Returns true if gbest_pos is within the designated target error\"\"\"\n",
    "        for d in range(cls.dimensions):\n",
    "            if cls.gbest_pos[d] < cls.target[d] + cls.error:\n",
    "                if cls.gbest_pos[d] > cls.target[d] - cls.error:\n",
    "                    return True \n",
    "        return False \n",
    "\n",
    "    @classmethod\n",
    "    def fitness(cls, position):\n",
    "        \"\"\"Ackley\"\"\"\n",
    "        x = position[0]\n",
    "        y = position[1]\n",
    "        #return x**2 + y**2\n",
    "        return -20.0 * np.exp(-0.2 * np.sqrt(0.5 * (x**2 + y**2))) - np.exp(0.5 * (np.cos(2 * \n",
    "          np.pi * x)+np.cos(2 * np.pi * y))) + np.e + 20\n",
    "\n",
    "    def __init__(self) -> None:\n",
    "        # Set position. Makes vector with dimensions Particle.dimensions\n",
    "        self.position = np.random.uniform(low=Particle.lower_bound, high=Particle.upper_bound, size=Particle.dimensions)\n",
    "        # Set best known pos\n",
    "        self.pbest_pos = self.position\n",
    "        self.update_gbest_pos()\n",
    "        # Initialize velocity within bounds.\n",
    "        self.velocity = np.random.uniform(low=Particle.lower_bound, high=Particle.upper_bound, size=Particle.dimensions)\n",
    "\n",
    "    def __str__(self) -> str:\n",
    "        \"\"\"Returns the position and velocity of the particle\"\"\"\n",
    "        return f\"My current position is: {self.position}. My pbest is: {self.pbest_pos}. My velocity is: {self.velocity}.\"\n",
    "\n",
    "    def update_position(self) -> None:\n",
    "        \"\"\"Set the particle's position based on current position and velocity\"\"\"\n",
    "        self.position = self.position + self.velocity\n",
    "\n",
    "    def update_pbest_pos(self) -> bool:\n",
    "        \"\"\"Update particle's best known pos with its current position, if its better. Returns True/false if updated/not.\"\"\"\n",
    "        if self.fitness(self.position) < self.fitness(self.pbest_pos):\n",
    "            self.pbest_pos = self.position\n",
    "            return True\n",
    "        return False\n",
    "\n",
    "    def update_gbest_pos(self) -> bool:\n",
    "        \"\"\"Updates gbest based on particle index\"\"\"\n",
    "        if self.fitness(self.pbest_pos) < self.fitness(Particle.gbest_pos):\n",
    "            Particle.gbest_pos = self.pbest_pos \n",
    "            return True\n",
    "        return False\n",
    "\n",
    "    def update_velocity(self) -> None: \n",
    "        \"\"\"Update the particle's velocity in each dimension\"\"\"\n",
    "        for d in range(len(self.velocity)):\n",
    "            # Inertia * velocity\n",
    "            inertial_velocity =  Particle.weight * self.velocity[d]\n",
    "            # Find distance to personal best pos \n",
    "            dist_pbest = self.pbest_pos[d] - self.position[d]\n",
    "            # Find distance to global best pos\n",
    "            dist_gbest = Particle.gbest_pos[d] - self.position[d]\n",
    "            # Set cognitive constant\n",
    "            p_const = Particle.cognitive_coefficient * np.random.uniform(low=0.001, high=1)\n",
    "            # Set the social constant\n",
    "            g_const = Particle.social_coefficient * np.random.uniform(low=0.001, high=1)\n",
    "            # Set velocity in given dimension\n",
    "            final_velocity = inertial_velocity + p_const * dist_pbest + g_const * dist_gbest \n",
    "            self.velocity[d] = final_velocity\n",
    "\n",
    "    def enforce_bounds(self) -> None:\n",
    "        \"\"\"When the position is outside of bounds, it is set in bounds. When a velocity is outside, it is set to 0\"\"\"\n",
    "        for d in range(len(self.position)):\n",
    "            if self.position[d] > Particle.upper_bound:\n",
    "                self.position[d] = Particle.upper_bound\n",
    "                continue\n",
    "            if self.position[d] < Particle.lower_bound:\n",
    "                self.position[d] = Particle.lower_bound\n",
    "        for d in range(len(self.velocity)):\n",
    "            if self.velocity[d] > Particle.upper_bound:\n",
    "                self.velocity[d] = 0 \n",
    "                continue\n",
    "            if self.velocity[d] < Particle.lower_bound:\n",
    "                self.velocity[d] = 0 \n",
    "\n",
    "    def search(self) -> bool:\n",
    "        \"\"\"A single particle's search for minimum\"\"\"\n",
    "        self.update_velocity()\n",
    "        self.update_position()\n",
    "        self.enforce_bounds()\n",
    "        if self.update_pbest_pos():\n",
    "            if self.update_gbest_pos():\n",
    "                return Particle.within_target_error()\n",
    "        return False"
   ]
  },
  {
   "cell_type": "markdown",
   "id": "bf801f3f-f707-4474-9e38-b6efa4701add",
   "metadata": {},
   "source": [
    "We will be using a class called Particle to represent each particle. The class itself represents the swarm of particles and the problem space, including the fitness function"
   ]
  },
  {
   "cell_type": "code",
   "execution_count": 3,
   "id": "3fe877dd-f0cd-4e1c-81e3-84f02ee9ed14",
   "metadata": {},
   "outputs": [],
   "source": [
    "def setup_plot(type3d:bool=True):\n",
    "    \"\"\"Based off of https://machinelearningmastery.com/a-gentle-introduction-to-particle-swarm-optimization/\n",
    "    and https://towardsdatascience.com/swarm-intelligence-coding-and-visualising-particle-swarm-optimisation-in-python-253e1bd00772\"\"\"\n",
    "    l = Particle.lower_bound\n",
    "    u = Particle.upper_bound\n",
    "    x, y = np.array(np.meshgrid(np.linspace(l,u,100), np.linspace(l,u,100)))\n",
    "    z = Particle.fitness([x, y])\n",
    "    x_min = x.ravel()[z.argmin()]\n",
    "    y_min = y.ravel()[z.argmin()]\n",
    "    fig =plt.figure(figsize=(8,6))\n",
    "    if type3d:\n",
    "        ax = fig.add_subplot(111, projection='3d')\n",
    "        ax.set_xlabel('x')\n",
    "        ax.set_ylabel('y')\n",
    "        ax.set_zlabel('z')\n",
    "        ax.plot([x_min], [y_min], marker='x', markersize=5, color=\"white\")\n",
    "        ax.plot_wireframe(x,y,z, color='red', rcount=100, ccount=100, linewidth=0.2)\n",
    "        return fig, ax\n",
    "    else:\n",
    "        plt.imshow(z, extent=[l, u, l, u], origin='lower', cmap='viridis', alpha=0.5)\n",
    "        plt.colorbar()\n",
    "        contours = plt.contour(x, y, z, 10, colors='black', alpha=0.4)\n",
    "        plt.clabel(contours, inline=True, fontsize=8, fmt=\"%.0f\")\n",
    "        return fig"
   ]
  },
  {
   "cell_type": "markdown",
   "id": "4af32155-7252-4bfa-9490-8a4082471d53",
   "metadata": {},
   "source": [
    "The logic for setting up a contour plot is based off of machinelearningmastery's contour plot, linked above."
   ]
  },
  {
   "cell_type": "code",
   "execution_count": 7,
   "id": "9485ce31-b773-4c0f-9cc3-c1a2ee5e53a5",
   "metadata": {
    "scrolled": true
   },
   "outputs": [
    {
     "name": "stdout",
     "output_type": "stream",
     "text": [
      "Gbestpos is: [-0.01650468 -5.        ], in 50 iterations\n"
     ]
    }
   ],
   "source": [
    "def particle_swarm_optimization(social=1.5, cognitive=1.5, weight=1.0, dec_weight=True, n_particles=5, iterations=50, type3d:bool=True):\n",
    "    # Swarm Setup\n",
    "    Particle.setup(social=social, cognitive=cognitive, weight=weight, dimensions=2, upper=5.0, lower=-5.0, target=[0,0], error=1e-6)\n",
    "    particles = [Particle()] * n_particles\n",
    "    found_target = False\n",
    "    # Matplotlib setup call\n",
    "    if type3d:\n",
    "        fig, ax = setup_plot(type3d=True)\n",
    "    else:\n",
    "        fig = setup_plot(type3d=False)\n",
    "    artists = []\n",
    "\n",
    "    i = 0\n",
    "    while found_target == False and i < iterations:\n",
    "        for particle in particles:\n",
    "            found_target = particle.search()\n",
    "        if dec_weight == True:\n",
    "            Particle.decrement_weight\n",
    "        i += 1\n",
    "\n",
    "        # Matplotlib frames for animation\n",
    "        x_positions = [particles[n].position[0] for n in range(n_particles)]\n",
    "        y_positions = [particles[n].position[1] for n in range(n_particles)]\n",
    "        if type3d:\n",
    "            fitness_vals = [Particle.fitness([particles[n].position[0], particles[n].position[1]]) for n in range(n_particles)]\n",
    "            frame = ax.scatter3D(x_positions,y_positions, fitness_vals, c='b')\n",
    "            title = ax.text(x=-4, y=4, z=20, s=f\"PSO Iteration {i}, Current Gbest is {Particle.gbest_pos}\")\n",
    "        else:\n",
    "            frame = plt.scatter(x_positions, y_positions, c='b')\n",
    "            title = plt.text(x=-4, y=5.5, s=f\"PSO Iteration {i}, Current Gbest is {Particle.gbest_pos}\")\n",
    "        artists.append([frame, title])\n",
    "\n",
    "    print(f\"Gbestpos is: {Particle.gbest_pos}, in {i} iterations\")\n",
    "    anim = animation.ArtistAnimation(fig, artists)\n",
    "\n",
    "\n",
    "particle_swarm_optimization(type3d=True)"
   ]
  },
  {
   "cell_type": "markdown",
   "id": "89b22f78-6c8f-4de6-8b63-78d783bc8ce1",
   "metadata": {},
   "source": [
    "The main termination loop is set to end when a suitable target is found, or when the iterations succeed a specified amount"
   ]
  },
  {
   "cell_type": "code",
   "execution_count": null,
   "id": "3b080afd-7988-417d-806d-5358b44aa5cc",
   "metadata": {},
   "outputs": [],
   "source": []
  },
  {
   "cell_type": "code",
   "execution_count": null,
   "id": "f3e0a30d-0542-41b6-8e8d-ed6404e81e54",
   "metadata": {},
   "outputs": [],
   "source": []
  },
  {
   "cell_type": "code",
   "execution_count": null,
   "id": "6048865e-2a65-4d52-90c7-58fa4520a33a",
   "metadata": {},
   "outputs": [],
   "source": []
  }
 ],
 "metadata": {
  "kernelspec": {
   "display_name": "Python 3 (ipykernel)",
   "language": "python",
   "name": "python3"
  },
  "language_info": {
   "codemirror_mode": {
    "name": "ipython",
    "version": 3
   },
   "file_extension": ".py",
   "mimetype": "text/x-python",
   "name": "python",
   "nbconvert_exporter": "python",
   "pygments_lexer": "ipython3",
   "version": "3.11.3"
  }
 },
 "nbformat": 4,
 "nbformat_minor": 5
}
